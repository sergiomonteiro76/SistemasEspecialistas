{
  "nbformat": 4,
  "nbformat_minor": 0,
  "metadata": {
    "colab": {
      "provenance": []
    },
    "kernelspec": {
      "name": "python3",
      "display_name": "Python 3"
    },
    "language_info": {
      "name": "python"
    }
  },
  "cells": [
    {
      "cell_type": "markdown",
      "metadata": {
        "id": "97R_-0dZn1rQ"
      },
      "source": [
        "# **Turma de Pós-Graduação de Ciência de Dados**\n",
        "\n",
        "**Disciplina: Linguagem de Programação Python**\n",
        "\n",
        "**prof: Sérgio Assunção Monteiro**"
      ]
    },
    {
      "cell_type": "markdown",
      "metadata": {
        "id": "GiRo-PmxnoTX"
      },
      "source": [
        "## **Aula 01**"
      ]
    },
    {
      "cell_type": "markdown",
      "metadata": {
        "id": "iiH0ts6TjZWZ"
      },
      "source": [
        "# **Exemplo 01**\n",
        "\n",
        "1.   Entrada de dados via linha de comando\n",
        "2.   Comandos condicionais: if - else\n",
        "\n"
      ]
    },
    {
      "cell_type": "markdown",
      "metadata": {
        "id": "WbZgc83b8Ftv"
      },
      "source": [
        "**Comando if-else**"
      ]
    },
    {
      "cell_type": "code",
      "metadata": {
        "id": "6AOoRIBG4vo1",
        "colab": {
          "base_uri": "https://localhost:8080/"
        },
        "outputId": "52c8753e-8e2e-4460-b075-f6d6a373cbfc"
      },
      "source": [
        "valor = int(input(\"Entre com o valor da compra: \"))"
      ],
      "execution_count": null,
      "outputs": [
        {
          "name": "stdout",
          "output_type": "stream",
          "text": [
            "Entre com o valor da compra: 100\n"
          ]
        }
      ]
    },
    {
      "cell_type": "code",
      "metadata": {
        "colab": {
          "base_uri": "https://localhost:8080/"
        },
        "id": "4Ndw9Jhb3AFw",
        "outputId": "ce1d8dc0-2e51-44df-f366-d4ee1e7b9dbd"
      },
      "source": [
        "print(valor)"
      ],
      "execution_count": null,
      "outputs": [
        {
          "output_type": "stream",
          "name": "stdout",
          "text": [
            "100\n"
          ]
        }
      ]
    },
    {
      "cell_type": "code",
      "metadata": {
        "colab": {
          "base_uri": "https://localhost:8080/"
        },
        "id": "6wz5Jgb73VvX",
        "outputId": "116c5f89-ebae-4c63-c04e-520bdd99b197"
      },
      "source": [
        "print('o valor é:',valor)"
      ],
      "execution_count": null,
      "outputs": [
        {
          "output_type": "stream",
          "name": "stdout",
          "text": [
            "o valor é: 100\n"
          ]
        }
      ]
    },
    {
      "cell_type": "code",
      "metadata": {
        "colab": {
          "base_uri": "https://localhost:8080/"
        },
        "id": "aDS8knWp3kYv",
        "outputId": "a2bafa57-9a83-436d-d81d-ee700a4d7730"
      },
      "source": [
        "print('o valor é: {}'.format(valor))"
      ],
      "execution_count": null,
      "outputs": [
        {
          "output_type": "stream",
          "name": "stdout",
          "text": [
            "o valor é: 100\n"
          ]
        }
      ]
    },
    {
      "cell_type": "code",
      "metadata": {
        "id": "G6J1U4ci2-9-"
      },
      "source": [
        "if valor<1000:\n",
        "  desconto = valor*0.05\n",
        "else:\n",
        "  desconto = valor*0.10"
      ],
      "execution_count": null,
      "outputs": []
    },
    {
      "cell_type": "code",
      "metadata": {
        "colab": {
          "base_uri": "https://localhost:8080/"
        },
        "id": "LFOuJFAljVmW",
        "outputId": "43064e32-dbf6-4fbd-87db-704648ab273b"
      },
      "source": [
        "print(\"Desconto: {}\".format(desconto))\n",
        "print(\"Valor Final: {}\".format(valor-desconto))"
      ],
      "execution_count": null,
      "outputs": [
        {
          "output_type": "stream",
          "name": "stdout",
          "text": [
            "Desconto: 5.0\n",
            "Valor Final: 95.0\n"
          ]
        }
      ]
    },
    {
      "cell_type": "markdown",
      "metadata": {
        "id": "orj0h8Arjzpc"
      },
      "source": [
        "# **Exemplo 02**\n",
        "\n",
        "1.   Comando iterativo: while\n"
      ]
    },
    {
      "cell_type": "markdown",
      "metadata": {
        "id": "avtXkyfr8Una"
      },
      "source": [
        "**while**"
      ]
    },
    {
      "cell_type": "code",
      "metadata": {
        "colab": {
          "base_uri": "https://localhost:8080/"
        },
        "id": "-OKBLmsz69s0",
        "outputId": "e3320b27-318b-4c97-f9d1-c5415a88ee5d"
      },
      "source": [
        "total_str = input(\"Entre com o total de repetições: \")"
      ],
      "execution_count": null,
      "outputs": [
        {
          "name": "stdout",
          "output_type": "stream",
          "text": [
            "Entre com o total de repetições: 5\n"
          ]
        }
      ]
    },
    {
      "cell_type": "code",
      "metadata": {
        "id": "DLFEpLOs7AB8"
      },
      "source": [
        "total = int(total_str)"
      ],
      "execution_count": null,
      "outputs": []
    },
    {
      "cell_type": "code",
      "metadata": {
        "colab": {
          "base_uri": "https://localhost:8080/"
        },
        "id": "j2M6R2wN7fb7",
        "outputId": "bbbc6776-af1d-4f5a-ffc3-92bc141cf414"
      },
      "source": [
        "print('o total é: {}'.format(total))"
      ],
      "execution_count": null,
      "outputs": [
        {
          "output_type": "stream",
          "name": "stdout",
          "text": [
            "o total é: 5\n"
          ]
        }
      ]
    },
    {
      "cell_type": "code",
      "metadata": {
        "id": "UjK5TwV48XvR",
        "colab": {
          "base_uri": "https://localhost:8080/"
        },
        "outputId": "cc0050b2-9f03-4a99-d4a3-1ba246eb062b"
      },
      "source": [
        "contador=0\n",
        "while (contador < total):\n",
        "  print(contador)\n",
        "  contador = contador + 1"
      ],
      "execution_count": null,
      "outputs": [
        {
          "output_type": "stream",
          "name": "stdout",
          "text": [
            "0\n",
            "1\n",
            "2\n",
            "3\n",
            "4\n"
          ]
        }
      ]
    },
    {
      "cell_type": "code",
      "metadata": {
        "colab": {
          "base_uri": "https://localhost:8080/"
        },
        "id": "vis0EzBFj6x5",
        "outputId": "105f75b8-db7f-42b2-ed54-1dfc8d0a9678"
      },
      "source": [
        "print(\"Forma 1: O programa terminou. O total de iterações é: [\",total,\"]\")\n",
        "print(\"Forma 2: O programa terminou. O total de iterações é: [{}]\".format(total))"
      ],
      "execution_count": null,
      "outputs": [
        {
          "output_type": "stream",
          "name": "stdout",
          "text": [
            "Forma 1: O programa terminou. O total de iterações é: [ 5 ]\n",
            "Forma 2: O programa terminou. O total de iterações é: [5]\n"
          ]
        }
      ]
    },
    {
      "cell_type": "markdown",
      "metadata": {
        "id": "DiX3qv0dj9ZT"
      },
      "source": [
        "# **Exemplo 03**\n",
        "\n",
        "1.   Comando iterativo: for\n",
        "2.   Listas\n"
      ]
    },
    {
      "cell_type": "markdown",
      "metadata": {
        "id": "NbUpllHF8dMZ"
      },
      "source": [
        "**listas**"
      ]
    },
    {
      "cell_type": "code",
      "metadata": {
        "id": "xwiC0cld8eaI"
      },
      "source": [
        "x=[1,2,3,4,5]"
      ],
      "execution_count": null,
      "outputs": []
    },
    {
      "cell_type": "code",
      "metadata": {
        "colab": {
          "base_uri": "https://localhost:8080/"
        },
        "id": "-MIgT7y39MQa",
        "outputId": "ba0b2ba2-47c5-4acf-8e60-c8a33a1cfa4a"
      },
      "source": [
        "print(\"Os valores de x são:{}\".format(x))"
      ],
      "execution_count": null,
      "outputs": [
        {
          "output_type": "stream",
          "name": "stdout",
          "text": [
            "Os valores de x são:[1, 2, 3, 4, 5]\n"
          ]
        }
      ]
    },
    {
      "cell_type": "code",
      "metadata": {
        "colab": {
          "base_uri": "https://localhost:8080/"
        },
        "id": "9rgF_RCN9xJ6",
        "outputId": "8284fc66-af2f-42f3-bb1e-2e58a00f55e3"
      },
      "source": [
        "print(\"x[0]={}; x[1]={}; x[2]={}; x[3]={}; x[4]={}\".format(x[0],x[1],x[2],x[3],x[4]))"
      ],
      "execution_count": null,
      "outputs": [
        {
          "output_type": "stream",
          "name": "stdout",
          "text": [
            "x[0]=1; x[1]=2; x[2]=3; x[3]=4; x[4]=5\n"
          ]
        }
      ]
    },
    {
      "cell_type": "code",
      "metadata": {
        "id": "X4bw_utv9JhL"
      },
      "source": [
        "somat=0\n",
        "for elemento in x:\n",
        "  somat = somat + elemento\n",
        "  #somat += elemento"
      ],
      "execution_count": null,
      "outputs": []
    },
    {
      "cell_type": "code",
      "metadata": {
        "colab": {
          "base_uri": "https://localhost:8080/"
        },
        "id": "1okrQmR5nV0N",
        "outputId": "fe672a35-5bfa-47f2-cf27-7e04275ed394"
      },
      "source": [
        "print(\"O somatório dos elementos do vetor é:[{}]\".format(somat))"
      ],
      "execution_count": null,
      "outputs": [
        {
          "output_type": "stream",
          "name": "stdout",
          "text": [
            "O somatório dos elementos do vetor é:[15]\n"
          ]
        }
      ]
    },
    {
      "cell_type": "code",
      "metadata": {
        "id": "qR9GFRb38jXB"
      },
      "source": [
        "w=[1,2,3,4,5]"
      ],
      "execution_count": null,
      "outputs": []
    },
    {
      "cell_type": "code",
      "metadata": {
        "id": "RCkNBdzk_45S"
      },
      "source": [
        "somat=0\n",
        "n=len(w)\n",
        "for i in range(n):\n",
        "    somat=somat+w[i]"
      ],
      "execution_count": null,
      "outputs": []
    },
    {
      "cell_type": "code",
      "metadata": {
        "colab": {
          "base_uri": "https://localhost:8080/"
        },
        "id": "dDmIgzEvnZWt",
        "outputId": "966c15ce-54d2-4d54-f008-64cb7967d369"
      },
      "source": [
        "print(); # quebre a linha\n",
        "print(\"O somatório dos elementos do vetor é:[{}]\".format(somat))"
      ],
      "execution_count": null,
      "outputs": [
        {
          "output_type": "stream",
          "name": "stdout",
          "text": [
            "\n",
            "O somatório dos elementos do vetor é:[15]\n"
          ]
        }
      ]
    },
    {
      "cell_type": "code",
      "metadata": {
        "id": "nq1WhJ8K8m0U"
      },
      "source": [
        "lista_elementos_1 = range(10)"
      ],
      "execution_count": null,
      "outputs": []
    },
    {
      "cell_type": "code",
      "metadata": {
        "id": "IkHKmx-PBhLH"
      },
      "source": [
        "lista_elementos_2 = list(lista_elementos_1)"
      ],
      "execution_count": null,
      "outputs": []
    },
    {
      "cell_type": "code",
      "metadata": {
        "colab": {
          "base_uri": "https://localhost:8080/"
        },
        "id": "gttRgog3BDmB",
        "outputId": "56250415-3bda-45b8-8ccb-28861b4f7496"
      },
      "source": [
        "print('lista_elementos_1: {}'.format(list(lista_elementos_1)))"
      ],
      "execution_count": null,
      "outputs": [
        {
          "output_type": "stream",
          "name": "stdout",
          "text": [
            "lista_elementos_1: [0, 1, 2, 3, 4, 5, 6, 7, 8, 9]\n"
          ]
        }
      ]
    },
    {
      "cell_type": "code",
      "metadata": {
        "colab": {
          "base_uri": "https://localhost:8080/"
        },
        "id": "5d8ZMcV6Bp4G",
        "outputId": "a0a07a0d-96c5-4564-b64c-7a22ae62489e"
      },
      "source": [
        "print('lista_elementos_2: {}'.format(lista_elementos_2))"
      ],
      "execution_count": null,
      "outputs": [
        {
          "output_type": "stream",
          "name": "stdout",
          "text": [
            "lista_elementos_2: [0, 1, 2, 3, 4, 5, 6, 7, 8, 9]\n"
          ]
        }
      ]
    },
    {
      "cell_type": "code",
      "metadata": {
        "id": "V7ateDay8pyk"
      },
      "source": [
        "lista_numeros=[1,2,3,4,5]"
      ],
      "execution_count": null,
      "outputs": []
    },
    {
      "cell_type": "code",
      "metadata": {
        "id": "pWkRl9YiCPfw"
      },
      "source": [
        "somat=sum(lista_numeros)"
      ],
      "execution_count": null,
      "outputs": []
    },
    {
      "cell_type": "code",
      "metadata": {
        "colab": {
          "base_uri": "https://localhost:8080/"
        },
        "id": "KFe2uH5ICP-8",
        "outputId": "1b506992-f652-4a2c-f3c6-f11d383f22ff"
      },
      "source": [
        "print(\"O somatório dos elementos da lista é:[{}]\".format(somat))"
      ],
      "execution_count": null,
      "outputs": [
        {
          "output_type": "stream",
          "name": "stdout",
          "text": [
            "O somatório dos elementos da lista é:[15]\n"
          ]
        }
      ]
    },
    {
      "cell_type": "markdown",
      "metadata": {
        "id": "rr3qkh1-82oq"
      },
      "source": [
        "## **Exercícios**"
      ]
    },
    {
      "cell_type": "markdown",
      "metadata": {
        "id": "hy7WdFEfoTl0"
      },
      "source": [
        "# *Implementar um programa em python que receba como entrada uma lista de números e um valor e produza como saída os pares de números da lista que somados resultam no valor de entrada.*"
      ]
    },
    {
      "cell_type": "markdown",
      "metadata": {
        "id": "RMAehCd18_i8"
      },
      "source": [
        "**Exemplo 01:**\n",
        "\n",
        "**Entrada:** lista1 = [1, 5, 7, -1], soma = 6\n",
        "\n",
        "**Saída:** 2\n",
        "Pares com soma 6 são (1, 5) e (7, -1)\n"
      ]
    },
    {
      "cell_type": "code",
      "metadata": {
        "id": "m5B84KXJRyyJ",
        "colab": {
          "base_uri": "https://localhost:8080/"
        },
        "outputId": "8505e5ce-1a78-4169-8e25-d47a431ebe2b"
      },
      "source": [
        "L = [1, 5, 7, -1]\n",
        "X=int(len(L))\n",
        "X=X-1\n",
        "soma = int(input(\"digite o valor \"))\n",
        "for i in L:\n",
        "  if (L[0]+L[X])==soma:\n",
        "    print(L[0],L[X])\n",
        "    X=X-1\n",
        "  elif (L[1]+L[X])==soma:\n",
        "    print(L[1],L[X])\n",
        "    X=X-1\n",
        "  elif (L[2]+L[X])==soma:\n",
        "    print(L[2],L[X])\n",
        "    X=X-1\n",
        "  elif (L[3]+L[X])==soma:\n",
        "    print(L[3],L[X])\n",
        "    X=X-1\n",
        "  else:\n",
        "    X=X-1\n"
      ],
      "execution_count": null,
      "outputs": [
        {
          "output_type": "stream",
          "name": "stdout",
          "text": [
            "digite o valor 0\n",
            "1 -1\n",
            "-1 1\n"
          ]
        }
      ]
    },
    {
      "cell_type": "markdown",
      "metadata": {
        "id": "-MCCENBc9BnJ"
      },
      "source": [
        "**Exemplo 02:**\n",
        "\n",
        "**Entrada:** lista2 = [1, 5, 7, -1, 5], soma = 6\n",
        "\n",
        "**Saída:** 3\n",
        "Pares com soma 6 são (1, 5), (7, -1) e (1, 5)\n"
      ]
    },
    {
      "cell_type": "code",
      "metadata": {
        "colab": {
          "base_uri": "https://localhost:8080/"
        },
        "id": "U5Fxxc2fgRCM",
        "outputId": "a27c133e-4fc9-448e-a552-1cc6fa3bb100"
      },
      "source": [
        "L = [1, 5, 7, -1, 5]\n",
        "X=int(len(L))\n",
        "X=X-1\n",
        "soma = int(input(\"digite o valor \"))\n",
        "for i in L:\n",
        "  if (L[0]+L[X])==soma:\n",
        "    print(L[0],L[X])\n",
        "    X=X-1\n",
        "  elif (L[1]+L[X])==soma:\n",
        "    print(L[1],L[X])\n",
        "    X=X-1\n",
        "  elif (L[2]+L[X])==soma:\n",
        "    print(L[2],L[X])\n",
        "    X=X-1\n",
        "  elif (L[3]+L[X])==soma:\n",
        "    print(L[3],L[X])\n",
        "    X=X-1\n",
        "  elif (L[4]+L[X])==soma:\n",
        "    print(L[4],L[X])\n",
        "    X=X-1\n",
        "  else:\n",
        "    X=X-1"
      ],
      "execution_count": null,
      "outputs": [
        {
          "output_type": "stream",
          "name": "stdout",
          "text": [
            "digite o valor 4\n",
            "-1 5\n",
            "5 -1\n",
            "-1 5\n"
          ]
        }
      ]
    },
    {
      "cell_type": "markdown",
      "metadata": {
        "id": "Ucj2_wBz9Ho6"
      },
      "source": [
        "**Solução**"
      ]
    }
  ]
}